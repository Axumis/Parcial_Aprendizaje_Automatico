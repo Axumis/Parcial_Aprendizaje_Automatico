{
  "nbformat": 4,
  "nbformat_minor": 0,
  "metadata": {
    "colab": {
      "provenance": []
    },
    "kernelspec": {
      "name": "python3",
      "display_name": "Python 3"
    },
    "language_info": {
      "name": "python"
    }
  },
  "cells": [
    {
      "cell_type": "markdown",
      "source": [
        "# Modelos a implementar"
      ],
      "metadata": {
        "id": "pgxoYG4H3RZT"
      }
    },
    {
      "cell_type": "markdown",
      "source": [
        "En esta situacion vamos a implementar algunos de los modelos de aprendizaje supervisado y comparar cuales quedan mejor adaptadas para el problema a partir de métricas y definiciones que se determinarán durante el desarrollo."
      ],
      "metadata": {
        "id": "5WyI5Lo73dDY"
      }
    },
    {
      "cell_type": "markdown",
      "source": [
        "# 1. K-Vecinos Cercanos"
      ],
      "metadata": {
        "id": "ZYm5Wb4D3n6w"
      }
    },
    {
      "cell_type": "code",
      "execution_count": null,
      "metadata": {
        "id": "oVZUMREo0C6f"
      },
      "outputs": [],
      "source": [
        "#Importacion de las librerias necesarias\n",
        "import pandas as pd\n",
        "import matplotlib.pyplot as plt\n",
        "import numpy as np\n",
        "import seaborn as sns\n",
        "from sklearn import metrics\n",
        "from matplotlib.colors import ListedColormap"
      ]
    },
    {
      "cell_type": "code",
      "source": [
        "#Cargamos el dataframe dataset_con_riesgo.csv de nuestro repositorio de GitHub\n",
        "df = pd.read_csv()"
      ],
      "metadata": {
        "id": "3zjvtQs25RzS"
      },
      "execution_count": null,
      "outputs": []
    }
  ]
}